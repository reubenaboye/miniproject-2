{
 "cells": [
  {
   "cell_type": "markdown",
   "metadata": {},
   "source": [
    "**MINI PROJECT II**"
   ]
  },
  {
   "cell_type": "markdown",
   "metadata": {},
   "source": [
    "For this project I aimed to extract information from Foursquare on POI related to food establishments around the Yonge & Dundas Area in TORONTO, ON"
   ]
  },
  {
   "cell_type": "code",
   "execution_count": 1,
   "metadata": {
    "jupyter": {
     "source_hidden": true
    },
    "tags": []
   },
   "outputs": [],
   "source": [
    "import requests as re\n",
    "import os\n",
    "import json\n",
    "from pprint import pprint\n",
    "import numpy as np\n",
    "import pandas as pd\n"
   ]
  },
  {
   "cell_type": "markdown",
   "metadata": {
    "jupyter": {
     "source_hidden": true
    },
    "tags": []
   },
   "source": [
    "# Foursquare"
   ]
  },
  {
   "cell_type": "markdown",
   "metadata": {
    "jupyter": {
     "source_hidden": true
    },
    "tags": []
   },
   "source": [
    "Send a request to Foursquare with a small radius (1000m) with the location of your choice\n",
    "> "
   ]
  },
  {
   "cell_type": "code",
   "execution_count": 31,
   "metadata": {
    "jupyter": {
     "source_hidden": true
    },
    "tags": []
   },
   "outputs": [],
   "source": [
    "foursquare_api = os.environ[\"FOURSQUARE_API_KEY\"]\n",
    "foursquare_url = \"https://api.foursquare.com/v3/places/search?ll=43.65595842901148,-79.38106479733959&radius=1000\"\n",
    "headers = {\"Accept\": \"application/json\"} \n",
    "headers['Authorization'] = foursquare_api\n",
    "\n",
    "foursquare_res = re.get(foursquare_url, headers=headers)\n",
    "foursquare_json = foursquare_res.json()\n"
   ]
  },
  {
   "cell_type": "markdown",
   "metadata": {},
   "source": [
    "From Foursquare I was able to find info on: \n",
    "* the names of food establishments within the 1000m radius,\n",
    "* their adresses, \n",
    "* the neighborhod they reside in\n",
    "* their distance from Yonge-Dundas"
   ]
  },
  {
   "cell_type": "code",
   "execution_count": 9,
   "metadata": {
    "jupyter": {
     "source_hidden": true
    },
    "tags": []
   },
   "outputs": [],
   "source": [
    "# GET LOCATION NAMES\n",
    "fsq_locations = []\n",
    "for child in foursquare_json['results']:\n",
    "    fsq_locations.append(child['name'])\n"
   ]
  },
  {
   "cell_type": "code",
   "execution_count": 36,
   "metadata": {
    "jupyter": {
     "source_hidden": true
    },
    "tags": []
   },
   "outputs": [],
   "source": [
    "#GET LOCATION ADRESSES\n",
    "fsq_address = []\n",
    "for item in foursquare_json['results']:\n",
    "    fsq_address.append(item['location']['address'])\n",
    "\n"
   ]
  },
  {
   "cell_type": "code",
   "execution_count": 37,
   "metadata": {
    "jupyter": {
     "source_hidden": true
    },
    "tags": []
   },
   "outputs": [],
   "source": [
    "# GET NEIGHBORHOODS\n",
    "fsq_neighb = []\n",
    "for item in foursquare_json['results']:\n",
    "    if 'neighborhood' in item['location']:\n",
    "        fsq_neighb.append(item['location']['neighborhood'])\n",
    "    else:\n",
    "        fsq_neighb.append('NA')\n"
   ]
  },
  {
   "cell_type": "code",
   "execution_count": 38,
   "metadata": {
    "jupyter": {
     "source_hidden": true
    },
    "tags": []
   },
   "outputs": [],
   "source": [
    "# GET DISTANCE FROM YONGE-DUNDAS SQUARE\n",
    "fsq_distance = []\n",
    "for item in foursquare_json['results']:\n",
    "    fsq_distance.append(item['distance'])\n"
   ]
  },
  {
   "cell_type": "code",
   "execution_count": 7,
   "metadata": {
    "jupyter": {
     "source_hidden": true
    },
    "tags": []
   },
   "outputs": [],
   "source": [
    "# GET FOURDQUARE IDS\n",
    "fsq_id = []\n",
    "for item in foursquare_json['results']:\n",
    "    fsq_id.append(item['fsq_id'])"
   ]
  },
  {
   "cell_type": "markdown",
   "metadata": {
    "jupyter": {
     "source_hidden": true
    },
    "tags": []
   },
   "source": [
    "I then merged the data into a dataframe"
   ]
  },
  {
   "cell_type": "code",
   "execution_count": 11,
   "metadata": {
    "jupyter": {
     "source_hidden": true
    },
    "tags": []
   },
   "outputs": [
    {
     "data": {
      "text/html": [
       "<div>\n",
       "<style scoped>\n",
       "    .dataframe tbody tr th:only-of-type {\n",
       "        vertical-align: middle;\n",
       "    }\n",
       "\n",
       "    .dataframe tbody tr th {\n",
       "        vertical-align: top;\n",
       "    }\n",
       "\n",
       "    .dataframe thead th {\n",
       "        text-align: right;\n",
       "    }\n",
       "</style>\n",
       "<table border=\"1\" class=\"dataframe\">\n",
       "  <thead>\n",
       "    <tr style=\"text-align: right;\">\n",
       "      <th></th>\n",
       "      <th>ID</th>\n",
       "      <th>Name</th>\n",
       "      <th>Address</th>\n",
       "      <th>Neighborhood</th>\n",
       "      <th>Distance_From_Yonge-Dundas</th>\n",
       "    </tr>\n",
       "  </thead>\n",
       "  <tbody>\n",
       "    <tr>\n",
       "      <th>0</th>\n",
       "      <td>57eda381498ebe0e6ef40972</td>\n",
       "      <td>Uniqlo ユニクロ</td>\n",
       "      <td>220 Yonge St</td>\n",
       "      <td>NA</td>\n",
       "      <td>34</td>\n",
       "    </tr>\n",
       "    <tr>\n",
       "      <th>1</th>\n",
       "      <td>4ad8cd16f964a520c91421e3</td>\n",
       "      <td>Yonge-Dundas Square</td>\n",
       "      <td>40 Dundas St W</td>\n",
       "      <td>[The Village]</td>\n",
       "      <td>47</td>\n",
       "    </tr>\n",
       "    <tr>\n",
       "      <th>2</th>\n",
       "      <td>4adbbae6f964a520402a21e3</td>\n",
       "      <td>Cineplex Odeon Yonge &amp; Dundas Cinemas</td>\n",
       "      <td>10 Dundas St E</td>\n",
       "      <td>NA</td>\n",
       "      <td>57</td>\n",
       "    </tr>\n",
       "    <tr>\n",
       "      <th>3</th>\n",
       "      <td>4df909dfe4cd2129701c0690</td>\n",
       "      <td>JOEY Eaton Centre</td>\n",
       "      <td>1 Dundas St W</td>\n",
       "      <td>[Eaton Centre]</td>\n",
       "      <td>67</td>\n",
       "    </tr>\n",
       "    <tr>\n",
       "      <th>4</th>\n",
       "      <td>5615b6c4498e3c32c67ad78f</td>\n",
       "      <td>Blaze Pizza</td>\n",
       "      <td>10 Dundas St E</td>\n",
       "      <td>[Downtown]</td>\n",
       "      <td>104</td>\n",
       "    </tr>\n",
       "    <tr>\n",
       "      <th>5</th>\n",
       "      <td>4adc9148f964a520512d21e3</td>\n",
       "      <td>Chipotle Mexican Grill</td>\n",
       "      <td>323 Yonge St</td>\n",
       "      <td>[Downtown Toronto]</td>\n",
       "      <td>100</td>\n",
       "    </tr>\n",
       "    <tr>\n",
       "      <th>6</th>\n",
       "      <td>4ad4c062f964a5200bf820e3</td>\n",
       "      <td>Silver Snail Comics</td>\n",
       "      <td>329 Yonge St</td>\n",
       "      <td>[Downtown Toronto]</td>\n",
       "      <td>122</td>\n",
       "    </tr>\n",
       "    <tr>\n",
       "      <th>7</th>\n",
       "      <td>4ad4c062f964a520c5f720e3</td>\n",
       "      <td>Royal Alexandra Theatre</td>\n",
       "      <td>284 King St W</td>\n",
       "      <td>[Downtown]</td>\n",
       "      <td>141</td>\n",
       "    </tr>\n",
       "    <tr>\n",
       "      <th>8</th>\n",
       "      <td>5064c3dde4b07c5a18986283</td>\n",
       "      <td>Five Guys Burgers &amp; Fries</td>\n",
       "      <td>329 Yonge St</td>\n",
       "      <td>[Downtown Toronto]</td>\n",
       "      <td>129</td>\n",
       "    </tr>\n",
       "    <tr>\n",
       "      <th>9</th>\n",
       "      <td>514cc159e4b0e4f73af4eced</td>\n",
       "      <td>Jazz Bistro</td>\n",
       "      <td>251 Victoria St</td>\n",
       "      <td>[Downtown]</td>\n",
       "      <td>147</td>\n",
       "    </tr>\n",
       "  </tbody>\n",
       "</table>\n",
       "</div>"
      ],
      "text/plain": [
       "                         ID                                   Name  \\\n",
       "0  57eda381498ebe0e6ef40972                            Uniqlo ユニクロ   \n",
       "1  4ad8cd16f964a520c91421e3                    Yonge-Dundas Square   \n",
       "2  4adbbae6f964a520402a21e3  Cineplex Odeon Yonge & Dundas Cinemas   \n",
       "3  4df909dfe4cd2129701c0690                      JOEY Eaton Centre   \n",
       "4  5615b6c4498e3c32c67ad78f                            Blaze Pizza   \n",
       "5  4adc9148f964a520512d21e3                 Chipotle Mexican Grill   \n",
       "6  4ad4c062f964a5200bf820e3                    Silver Snail Comics   \n",
       "7  4ad4c062f964a520c5f720e3                Royal Alexandra Theatre   \n",
       "8  5064c3dde4b07c5a18986283              Five Guys Burgers & Fries   \n",
       "9  514cc159e4b0e4f73af4eced                            Jazz Bistro   \n",
       "\n",
       "           Address        Neighborhood  Distance_From_Yonge-Dundas  \n",
       "0     220 Yonge St                  NA                          34  \n",
       "1   40 Dundas St W       [The Village]                          47  \n",
       "2   10 Dundas St E                  NA                          57  \n",
       "3    1 Dundas St W      [Eaton Centre]                          67  \n",
       "4   10 Dundas St E          [Downtown]                         104  \n",
       "5     323 Yonge St  [Downtown Toronto]                         100  \n",
       "6     329 Yonge St  [Downtown Toronto]                         122  \n",
       "7    284 King St W          [Downtown]                         141  \n",
       "8     329 Yonge St  [Downtown Toronto]                         129  \n",
       "9  251 Victoria St          [Downtown]                         147  "
      ]
     },
     "execution_count": 11,
     "metadata": {},
     "output_type": "execute_result"
    }
   ],
   "source": [
    "# MERGE INTO DATAFRAME\n",
    "fsq_data = {\n",
    "    'ID': pd.Series(fsq_id),\n",
    "    'Name': pd.Series(fsq_locations),\n",
    "    'Address': pd.Series(fsq_address),\n",
    "    'Neighborhood': pd.Series(fsq_neighb),\n",
    "    'Distance_From_Yonge-Dundas': pd.Series(fsq_distance)\n",
    "}\n",
    "\n",
    "fsq_df = pd.DataFrame(fsq_data)\n",
    "fsq_df"
   ]
  },
  {
   "cell_type": "markdown",
   "metadata": {},
   "source": [
    "# Yelp"
   ]
  },
  {
   "cell_type": "markdown",
   "metadata": {
    "jupyter": {
     "source_hidden": true
    },
    "tags": []
   },
   "source": [
    "Send a request with the same location paramaters (location, radius, etc)"
   ]
  },
  {
   "cell_type": "code",
   "execution_count": 35,
   "metadata": {
    "jupyter": {
     "source_hidden": true
    },
    "tags": []
   },
   "outputs": [],
   "source": [
    "import json\n",
    "from pprint import pprint\n",
    "\n",
    "#load json object\n",
    "\n",
    "with open('response.json') as f:\n",
    "    yelp_json = json.load(f)\n",
    "\n",
    "\n"
   ]
  },
  {
   "cell_type": "code",
   "execution_count": 33,
   "metadata": {
    "jupyter": {
     "source_hidden": true
    },
    "tags": []
   },
   "outputs": [],
   "source": [
    "import json\n",
    "from pprint import pprint\n",
    "\n",
    "#load json object\n",
    "\n",
    "with open('response.json') as f:\n",
    "    yelp_json = json.load(f)\n"
   ]
  },
  {
   "cell_type": "markdown",
   "metadata": {},
   "source": [
    "YELP seems to provide more detailed and thorough data on food establishment. Accordingly, I was able to extract information on:\n",
    "* Establishment Names\n",
    "* The Type of Establishement\n",
    "* The Number of Reviews\n",
    "* Their overal ratings\n",
    "* Their Price status\n",
    "* Distance from Yonge-Dundas "
   ]
  },
  {
   "cell_type": "code",
   "execution_count": 34,
   "metadata": {
    "jupyter": {
     "source_hidden": true
    },
    "tags": []
   },
   "outputs": [],
   "source": [
    " # EXTRACT LOCATION NAMES\n",
    "yelp_locations = []\n",
    "for child in yelp_json['businesses']:\n",
    "    yelp_locations.append(child['name'])\n"
   ]
  },
  {
   "cell_type": "code",
   "execution_count": 15,
   "metadata": {
    "jupyter": {
     "source_hidden": true
    },
    "tags": []
   },
   "outputs": [],
   "source": [
    "# GET TYPE OF ESTABLISHMENT\n",
    "yelp_type = []\n",
    "for item in yelp_json['businesses']:\n",
    "    yelp_type.append(item['categories'][0]['title'])"
   ]
  },
  {
   "cell_type": "code",
   "execution_count": 17,
   "metadata": {
    "jupyter": {
     "source_hidden": true
    },
    "tags": []
   },
   "outputs": [
    {
     "data": {
      "text/plain": [
       "20"
      ]
     },
     "execution_count": 17,
     "metadata": {},
     "output_type": "execute_result"
    }
   ],
   "source": [
    "# get reviews\n",
    "yelp_ratings = []\n",
    "for item in yelp_json['businesses']:\n",
    "    yelp_ratings.append(item['rating'])\n"
   ]
  },
  {
   "cell_type": "code",
   "execution_count": 18,
   "metadata": {
    "jupyter": {
     "source_hidden": true
    },
    "tags": []
   },
   "outputs": [],
   "source": [
    "#get prices\n",
    "yelp_prices = []\n",
    "for item in yelp_json['businesses']:\n",
    "    yelp_prices.append(item['price'])\n"
   ]
  },
  {
   "cell_type": "code",
   "execution_count": 19,
   "metadata": {
    "collapsed": true,
    "jupyter": {
     "outputs_hidden": true,
     "source_hidden": true
    },
    "tags": []
   },
   "outputs": [
    {
     "data": {
      "text/plain": [
       "20"
      ]
     },
     "execution_count": 19,
     "metadata": {},
     "output_type": "execute_result"
    }
   ],
   "source": [
    "# get review count\n",
    "\n",
    "yelp_review_count = []\n",
    "for item in yelp_json['businesses']:\n",
    "    yelp_review_count.append(item['review_count'])\n",
    "len(yelp_review_count)"
   ]
  },
  {
   "cell_type": "code",
   "execution_count": 21,
   "metadata": {
    "jupyter": {
     "source_hidden": true
    },
    "tags": []
   },
   "outputs": [],
   "source": [
    "# get distance from yonge and dundas\n",
    "yelp_distance = []\n",
    "for item in yelp_json['businesses']:\n",
    "    yelp_distance.append(item['distance'])\n"
   ]
  },
  {
   "cell_type": "code",
   "execution_count": 23,
   "metadata": {
    "jupyter": {
     "source_hidden": true
    },
    "tags": []
   },
   "outputs": [],
   "source": [
    "# GET IDs\n",
    "yelp_ID = []\n",
    "for item in yelp_json['businesses']:\n",
    "    yelp_ID.append(item['id'])"
   ]
  },
  {
   "cell_type": "markdown",
   "metadata": {
    "jupyter": {
     "source_hidden": true
    },
    "tags": []
   },
   "source": [
    "Put your parsed results into a DataFrame"
   ]
  },
  {
   "cell_type": "code",
   "execution_count": 39,
   "metadata": {
    "jupyter": {
     "source_hidden": true
    },
    "tags": []
   },
   "outputs": [
    {
     "data": {
      "text/html": [
       "<div>\n",
       "<style scoped>\n",
       "    .dataframe tbody tr th:only-of-type {\n",
       "        vertical-align: middle;\n",
       "    }\n",
       "\n",
       "    .dataframe tbody tr th {\n",
       "        vertical-align: top;\n",
       "    }\n",
       "\n",
       "    .dataframe thead th {\n",
       "        text-align: right;\n",
       "    }\n",
       "</style>\n",
       "<table border=\"1\" class=\"dataframe\">\n",
       "  <thead>\n",
       "    <tr style=\"text-align: right;\">\n",
       "      <th></th>\n",
       "      <th>Name</th>\n",
       "      <th>Location_Type</th>\n",
       "      <th>Distance_From_Yonge-Dundas</th>\n",
       "      <th>Price</th>\n",
       "      <th>Review-Count</th>\n",
       "      <th>Rating</th>\n",
       "    </tr>\n",
       "  </thead>\n",
       "  <tbody>\n",
       "    <tr>\n",
       "      <th>0</th>\n",
       "      <td>Blaze Pizza</td>\n",
       "      <td>Pizza</td>\n",
       "      <td>107.821381</td>\n",
       "      <td>$$</td>\n",
       "      <td>566</td>\n",
       "      <td>4.5</td>\n",
       "    </tr>\n",
       "    <tr>\n",
       "      <th>1</th>\n",
       "      <td>KINKA IZAKAYA ORIGINAL</td>\n",
       "      <td>Japanese</td>\n",
       "      <td>532.205976</td>\n",
       "      <td>$$</td>\n",
       "      <td>1724</td>\n",
       "      <td>4.0</td>\n",
       "    </tr>\n",
       "    <tr>\n",
       "      <th>2</th>\n",
       "      <td>Pai Northern Thai Kitchen</td>\n",
       "      <td>Thai</td>\n",
       "      <td>1083.691116</td>\n",
       "      <td>$$</td>\n",
       "      <td>3201</td>\n",
       "      <td>4.5</td>\n",
       "    </tr>\n",
       "    <tr>\n",
       "      <th>3</th>\n",
       "      <td>Richmond Station</td>\n",
       "      <td>Canadian (New)</td>\n",
       "      <td>523.253427</td>\n",
       "      <td>$$$</td>\n",
       "      <td>831</td>\n",
       "      <td>4.5</td>\n",
       "    </tr>\n",
       "    <tr>\n",
       "      <th>4</th>\n",
       "      <td>Sansotei Ramen</td>\n",
       "      <td>Ramen</td>\n",
       "      <td>445.853622</td>\n",
       "      <td>$$</td>\n",
       "      <td>906</td>\n",
       "      <td>4.0</td>\n",
       "    </tr>\n",
       "    <tr>\n",
       "      <th>5</th>\n",
       "      <td>GB Hand-pulled Noodles</td>\n",
       "      <td>Chinese</td>\n",
       "      <td>228.915389</td>\n",
       "      <td>$$</td>\n",
       "      <td>563</td>\n",
       "      <td>4.0</td>\n",
       "    </tr>\n",
       "    <tr>\n",
       "      <th>6</th>\n",
       "      <td>Eggspectation</td>\n",
       "      <td>Breakfast &amp; Brunch</td>\n",
       "      <td>292.589666</td>\n",
       "      <td>$$</td>\n",
       "      <td>725</td>\n",
       "      <td>4.0</td>\n",
       "    </tr>\n",
       "    <tr>\n",
       "      <th>7</th>\n",
       "      <td>Hokkaido Ramen Santouka</td>\n",
       "      <td>Ramen</td>\n",
       "      <td>290.245629</td>\n",
       "      <td>$$</td>\n",
       "      <td>876</td>\n",
       "      <td>4.0</td>\n",
       "    </tr>\n",
       "    <tr>\n",
       "      <th>8</th>\n",
       "      <td>Katsuya</td>\n",
       "      <td>Japanese</td>\n",
       "      <td>489.673837</td>\n",
       "      <td>$$</td>\n",
       "      <td>460</td>\n",
       "      <td>4.5</td>\n",
       "    </tr>\n",
       "    <tr>\n",
       "      <th>9</th>\n",
       "      <td>Uncle Tetsu's Japanese Cheesecake</td>\n",
       "      <td>Desserts</td>\n",
       "      <td>242.032179</td>\n",
       "      <td>$</td>\n",
       "      <td>1128</td>\n",
       "      <td>3.5</td>\n",
       "    </tr>\n",
       "    <tr>\n",
       "      <th>10</th>\n",
       "      <td>Banh Mi Boys</td>\n",
       "      <td>Vietnamese</td>\n",
       "      <td>364.846207</td>\n",
       "      <td>$</td>\n",
       "      <td>505</td>\n",
       "      <td>4.0</td>\n",
       "    </tr>\n",
       "    <tr>\n",
       "      <th>11</th>\n",
       "      <td>Salad King Restaurant</td>\n",
       "      <td>Thai</td>\n",
       "      <td>202.750925</td>\n",
       "      <td>$$</td>\n",
       "      <td>995</td>\n",
       "      <td>3.5</td>\n",
       "    </tr>\n",
       "    <tr>\n",
       "      <th>12</th>\n",
       "      <td>JOEY Eaton Centre</td>\n",
       "      <td>Canadian (New)</td>\n",
       "      <td>76.430245</td>\n",
       "      <td>$$</td>\n",
       "      <td>513</td>\n",
       "      <td>3.5</td>\n",
       "    </tr>\n",
       "    <tr>\n",
       "      <th>13</th>\n",
       "      <td>Byblos</td>\n",
       "      <td>Mediterranean</td>\n",
       "      <td>1088.947333</td>\n",
       "      <td>$$$$</td>\n",
       "      <td>854</td>\n",
       "      <td>4.5</td>\n",
       "    </tr>\n",
       "    <tr>\n",
       "      <th>14</th>\n",
       "      <td>Tsujiri</td>\n",
       "      <td>Tea Rooms</td>\n",
       "      <td>348.912401</td>\n",
       "      <td>$$</td>\n",
       "      <td>581</td>\n",
       "      <td>4.0</td>\n",
       "    </tr>\n",
       "    <tr>\n",
       "      <th>15</th>\n",
       "      <td>Pearl Diver</td>\n",
       "      <td>Seafood</td>\n",
       "      <td>758.758397</td>\n",
       "      <td>$$</td>\n",
       "      <td>598</td>\n",
       "      <td>4.0</td>\n",
       "    </tr>\n",
       "    <tr>\n",
       "      <th>16</th>\n",
       "      <td>Poke Guys</td>\n",
       "      <td>Hawaiian</td>\n",
       "      <td>352.894727</td>\n",
       "      <td>$$</td>\n",
       "      <td>364</td>\n",
       "      <td>4.0</td>\n",
       "    </tr>\n",
       "    <tr>\n",
       "      <th>17</th>\n",
       "      <td>Fahrenheit Coffee</td>\n",
       "      <td>Coffee &amp; Tea</td>\n",
       "      <td>758.377743</td>\n",
       "      <td>$$</td>\n",
       "      <td>330</td>\n",
       "      <td>4.5</td>\n",
       "    </tr>\n",
       "    <tr>\n",
       "      <th>18</th>\n",
       "      <td>Japango</td>\n",
       "      <td>Sushi Bars</td>\n",
       "      <td>353.255861</td>\n",
       "      <td>$$</td>\n",
       "      <td>702</td>\n",
       "      <td>3.5</td>\n",
       "    </tr>\n",
       "    <tr>\n",
       "      <th>19</th>\n",
       "      <td>The Queen And Beaver Public House</td>\n",
       "      <td>Pubs</td>\n",
       "      <td>241.694093</td>\n",
       "      <td>$$</td>\n",
       "      <td>401</td>\n",
       "      <td>4.0</td>\n",
       "    </tr>\n",
       "  </tbody>\n",
       "</table>\n",
       "</div>"
      ],
      "text/plain": [
       "                                 Name       Location_Type  \\\n",
       "0                         Blaze Pizza               Pizza   \n",
       "1              KINKA IZAKAYA ORIGINAL            Japanese   \n",
       "2           Pai Northern Thai Kitchen                Thai   \n",
       "3                    Richmond Station      Canadian (New)   \n",
       "4                      Sansotei Ramen               Ramen   \n",
       "5              GB Hand-pulled Noodles             Chinese   \n",
       "6                       Eggspectation  Breakfast & Brunch   \n",
       "7             Hokkaido Ramen Santouka               Ramen   \n",
       "8                             Katsuya            Japanese   \n",
       "9   Uncle Tetsu's Japanese Cheesecake            Desserts   \n",
       "10                       Banh Mi Boys          Vietnamese   \n",
       "11              Salad King Restaurant                Thai   \n",
       "12                  JOEY Eaton Centre      Canadian (New)   \n",
       "13                             Byblos       Mediterranean   \n",
       "14                            Tsujiri           Tea Rooms   \n",
       "15                        Pearl Diver             Seafood   \n",
       "16                          Poke Guys            Hawaiian   \n",
       "17                  Fahrenheit Coffee        Coffee & Tea   \n",
       "18                            Japango          Sushi Bars   \n",
       "19  The Queen And Beaver Public House                Pubs   \n",
       "\n",
       "    Distance_From_Yonge-Dundas Price  Review-Count  Rating  \n",
       "0                   107.821381    $$           566     4.5  \n",
       "1                   532.205976    $$          1724     4.0  \n",
       "2                  1083.691116    $$          3201     4.5  \n",
       "3                   523.253427   $$$           831     4.5  \n",
       "4                   445.853622    $$           906     4.0  \n",
       "5                   228.915389    $$           563     4.0  \n",
       "6                   292.589666    $$           725     4.0  \n",
       "7                   290.245629    $$           876     4.0  \n",
       "8                   489.673837    $$           460     4.5  \n",
       "9                   242.032179     $          1128     3.5  \n",
       "10                  364.846207     $           505     4.0  \n",
       "11                  202.750925    $$           995     3.5  \n",
       "12                   76.430245    $$           513     3.5  \n",
       "13                 1088.947333  $$$$           854     4.5  \n",
       "14                  348.912401    $$           581     4.0  \n",
       "15                  758.758397    $$           598     4.0  \n",
       "16                  352.894727    $$           364     4.0  \n",
       "17                  758.377743    $$           330     4.5  \n",
       "18                  353.255861    $$           702     3.5  \n",
       "19                  241.694093    $$           401     4.0  "
      ]
     },
     "execution_count": 39,
     "metadata": {},
     "output_type": "execute_result"
    }
   ],
   "source": [
    "yelp_merge = {\n",
    "    'Name': pd.Series(yelp_locations),\n",
    "    'Location_Type': pd.Series(yelp_type),\n",
    "    'Distance_From_Yonge-Dundas': pd.Series(yelp_distance),\n",
    "    'Price': pd.Series(yelp_prices),\n",
    "    'Review-Count': pd.Series(yelp_review_count),\n",
    "    'Rating': pd.Series(yelp_ratings)\n",
    "}\n",
    "yelp_df= pd.DataFrame(yelp_merge)\n",
    "yelp_df"
   ]
  },
  {
   "cell_type": "code",
   "execution_count": 29,
   "metadata": {
    "collapsed": true,
    "jupyter": {
     "outputs_hidden": true,
     "source_hidden": true
    },
    "tags": []
   },
   "outputs": [
    {
     "data": {
      "text/html": [
       "<div>\n",
       "<style scoped>\n",
       "    .dataframe tbody tr th:only-of-type {\n",
       "        vertical-align: middle;\n",
       "    }\n",
       "\n",
       "    .dataframe tbody tr th {\n",
       "        vertical-align: top;\n",
       "    }\n",
       "\n",
       "    .dataframe thead th {\n",
       "        text-align: right;\n",
       "    }\n",
       "</style>\n",
       "<table border=\"1\" class=\"dataframe\">\n",
       "  <thead>\n",
       "    <tr style=\"text-align: right;\">\n",
       "      <th></th>\n",
       "      <th>Name</th>\n",
       "      <th>Location_Type</th>\n",
       "      <th>Distance_From_Yonge-Dundas</th>\n",
       "      <th>Price</th>\n",
       "      <th>Review-Count</th>\n",
       "      <th>Rating</th>\n",
       "    </tr>\n",
       "  </thead>\n",
       "  <tbody>\n",
       "    <tr>\n",
       "      <th>2</th>\n",
       "      <td>Pai Northern Thai Kitchen</td>\n",
       "      <td>Thai</td>\n",
       "      <td>1083.691116</td>\n",
       "      <td>$$</td>\n",
       "      <td>3201</td>\n",
       "      <td>4.5</td>\n",
       "    </tr>\n",
       "    <tr>\n",
       "      <th>1</th>\n",
       "      <td>KINKA IZAKAYA ORIGINAL</td>\n",
       "      <td>Japanese</td>\n",
       "      <td>532.205976</td>\n",
       "      <td>$$</td>\n",
       "      <td>1724</td>\n",
       "      <td>4.0</td>\n",
       "    </tr>\n",
       "    <tr>\n",
       "      <th>9</th>\n",
       "      <td>Uncle Tetsu's Japanese Cheesecake</td>\n",
       "      <td>Desserts</td>\n",
       "      <td>242.032179</td>\n",
       "      <td>$</td>\n",
       "      <td>1128</td>\n",
       "      <td>3.5</td>\n",
       "    </tr>\n",
       "    <tr>\n",
       "      <th>11</th>\n",
       "      <td>Salad King Restaurant</td>\n",
       "      <td>Thai</td>\n",
       "      <td>202.750925</td>\n",
       "      <td>$$</td>\n",
       "      <td>995</td>\n",
       "      <td>3.5</td>\n",
       "    </tr>\n",
       "    <tr>\n",
       "      <th>4</th>\n",
       "      <td>Sansotei Ramen</td>\n",
       "      <td>Ramen</td>\n",
       "      <td>445.853622</td>\n",
       "      <td>$$</td>\n",
       "      <td>906</td>\n",
       "      <td>4.0</td>\n",
       "    </tr>\n",
       "    <tr>\n",
       "      <th>7</th>\n",
       "      <td>Hokkaido Ramen Santouka</td>\n",
       "      <td>Ramen</td>\n",
       "      <td>290.245629</td>\n",
       "      <td>$$</td>\n",
       "      <td>876</td>\n",
       "      <td>4.0</td>\n",
       "    </tr>\n",
       "    <tr>\n",
       "      <th>13</th>\n",
       "      <td>Byblos</td>\n",
       "      <td>Mediterranean</td>\n",
       "      <td>1088.947333</td>\n",
       "      <td>$$$$</td>\n",
       "      <td>854</td>\n",
       "      <td>4.5</td>\n",
       "    </tr>\n",
       "    <tr>\n",
       "      <th>3</th>\n",
       "      <td>Richmond Station</td>\n",
       "      <td>Canadian (New)</td>\n",
       "      <td>523.253427</td>\n",
       "      <td>$$$</td>\n",
       "      <td>831</td>\n",
       "      <td>4.5</td>\n",
       "    </tr>\n",
       "    <tr>\n",
       "      <th>6</th>\n",
       "      <td>Eggspectation</td>\n",
       "      <td>Breakfast &amp; Brunch</td>\n",
       "      <td>292.589666</td>\n",
       "      <td>$$</td>\n",
       "      <td>725</td>\n",
       "      <td>4.0</td>\n",
       "    </tr>\n",
       "    <tr>\n",
       "      <th>18</th>\n",
       "      <td>Japango</td>\n",
       "      <td>Sushi Bars</td>\n",
       "      <td>353.255861</td>\n",
       "      <td>$$</td>\n",
       "      <td>702</td>\n",
       "      <td>3.5</td>\n",
       "    </tr>\n",
       "    <tr>\n",
       "      <th>15</th>\n",
       "      <td>Pearl Diver</td>\n",
       "      <td>Seafood</td>\n",
       "      <td>758.758397</td>\n",
       "      <td>$$</td>\n",
       "      <td>598</td>\n",
       "      <td>4.0</td>\n",
       "    </tr>\n",
       "    <tr>\n",
       "      <th>14</th>\n",
       "      <td>Tsujiri</td>\n",
       "      <td>Tea Rooms</td>\n",
       "      <td>348.912401</td>\n",
       "      <td>$$</td>\n",
       "      <td>581</td>\n",
       "      <td>4.0</td>\n",
       "    </tr>\n",
       "    <tr>\n",
       "      <th>0</th>\n",
       "      <td>Blaze Pizza</td>\n",
       "      <td>Pizza</td>\n",
       "      <td>107.821381</td>\n",
       "      <td>$$</td>\n",
       "      <td>566</td>\n",
       "      <td>4.5</td>\n",
       "    </tr>\n",
       "    <tr>\n",
       "      <th>5</th>\n",
       "      <td>GB Hand-pulled Noodles</td>\n",
       "      <td>Chinese</td>\n",
       "      <td>228.915389</td>\n",
       "      <td>$$</td>\n",
       "      <td>563</td>\n",
       "      <td>4.0</td>\n",
       "    </tr>\n",
       "    <tr>\n",
       "      <th>12</th>\n",
       "      <td>JOEY Eaton Centre</td>\n",
       "      <td>Canadian (New)</td>\n",
       "      <td>76.430245</td>\n",
       "      <td>$$</td>\n",
       "      <td>513</td>\n",
       "      <td>3.5</td>\n",
       "    </tr>\n",
       "    <tr>\n",
       "      <th>10</th>\n",
       "      <td>Banh Mi Boys</td>\n",
       "      <td>Vietnamese</td>\n",
       "      <td>364.846207</td>\n",
       "      <td>$</td>\n",
       "      <td>505</td>\n",
       "      <td>4.0</td>\n",
       "    </tr>\n",
       "    <tr>\n",
       "      <th>8</th>\n",
       "      <td>Katsuya</td>\n",
       "      <td>Japanese</td>\n",
       "      <td>489.673837</td>\n",
       "      <td>$$</td>\n",
       "      <td>460</td>\n",
       "      <td>4.5</td>\n",
       "    </tr>\n",
       "    <tr>\n",
       "      <th>19</th>\n",
       "      <td>The Queen And Beaver Public House</td>\n",
       "      <td>Pubs</td>\n",
       "      <td>241.694093</td>\n",
       "      <td>$$</td>\n",
       "      <td>401</td>\n",
       "      <td>4.0</td>\n",
       "    </tr>\n",
       "    <tr>\n",
       "      <th>16</th>\n",
       "      <td>Poke Guys</td>\n",
       "      <td>Hawaiian</td>\n",
       "      <td>352.894727</td>\n",
       "      <td>$$</td>\n",
       "      <td>364</td>\n",
       "      <td>4.0</td>\n",
       "    </tr>\n",
       "    <tr>\n",
       "      <th>17</th>\n",
       "      <td>Fahrenheit Coffee</td>\n",
       "      <td>Coffee &amp; Tea</td>\n",
       "      <td>758.377743</td>\n",
       "      <td>$$</td>\n",
       "      <td>330</td>\n",
       "      <td>4.5</td>\n",
       "    </tr>\n",
       "  </tbody>\n",
       "</table>\n",
       "</div>"
      ],
      "text/plain": [
       "                                 Name       Location_Type  \\\n",
       "2           Pai Northern Thai Kitchen                Thai   \n",
       "1              KINKA IZAKAYA ORIGINAL            Japanese   \n",
       "9   Uncle Tetsu's Japanese Cheesecake            Desserts   \n",
       "11              Salad King Restaurant                Thai   \n",
       "4                      Sansotei Ramen               Ramen   \n",
       "7             Hokkaido Ramen Santouka               Ramen   \n",
       "13                             Byblos       Mediterranean   \n",
       "3                    Richmond Station      Canadian (New)   \n",
       "6                       Eggspectation  Breakfast & Brunch   \n",
       "18                            Japango          Sushi Bars   \n",
       "15                        Pearl Diver             Seafood   \n",
       "14                            Tsujiri           Tea Rooms   \n",
       "0                         Blaze Pizza               Pizza   \n",
       "5              GB Hand-pulled Noodles             Chinese   \n",
       "12                  JOEY Eaton Centre      Canadian (New)   \n",
       "10                       Banh Mi Boys          Vietnamese   \n",
       "8                             Katsuya            Japanese   \n",
       "19  The Queen And Beaver Public House                Pubs   \n",
       "16                          Poke Guys            Hawaiian   \n",
       "17                  Fahrenheit Coffee        Coffee & Tea   \n",
       "\n",
       "    Distance_From_Yonge-Dundas Price  Review-Count  Rating  \n",
       "2                  1083.691116    $$          3201     4.5  \n",
       "1                   532.205976    $$          1724     4.0  \n",
       "9                   242.032179     $          1128     3.5  \n",
       "11                  202.750925    $$           995     3.5  \n",
       "4                   445.853622    $$           906     4.0  \n",
       "7                   290.245629    $$           876     4.0  \n",
       "13                 1088.947333  $$$$           854     4.5  \n",
       "3                   523.253427   $$$           831     4.5  \n",
       "6                   292.589666    $$           725     4.0  \n",
       "18                  353.255861    $$           702     3.5  \n",
       "15                  758.758397    $$           598     4.0  \n",
       "14                  348.912401    $$           581     4.0  \n",
       "0                   107.821381    $$           566     4.5  \n",
       "5                   228.915389    $$           563     4.0  \n",
       "12                   76.430245    $$           513     3.5  \n",
       "10                  364.846207     $           505     4.0  \n",
       "8                   489.673837    $$           460     4.5  \n",
       "19                  241.694093    $$           401     4.0  \n",
       "16                  352.894727    $$           364     4.0  \n",
       "17                  758.377743    $$           330     4.5  "
      ]
     },
     "execution_count": 29,
     "metadata": {},
     "output_type": "execute_result"
    }
   ],
   "source": [
    "#SORT VALES BY POPULARITY\n",
    "\n",
    "yelp_df.sort_values(by=['Review-Count'], ascending = [False])"
   ]
  },
  {
   "cell_type": "markdown",
   "metadata": {
    "jupyter": {
     "source_hidden": true
    },
    "tags": []
   },
   "source": [
    "# Google (stretch)"
   ]
  },
  {
   "cell_type": "markdown",
   "metadata": {
    "jupyter": {
     "source_hidden": true
    },
    "tags": []
   },
   "source": [
    "Use the same process as the first two APIs"
   ]
  },
  {
   "cell_type": "markdown",
   "metadata": {
    "jupyter": {
     "source_hidden": true
    },
    "tags": []
   },
   "source": [
    "# Database"
   ]
  },
  {
   "cell_type": "markdown",
   "metadata": {
    "jupyter": {
     "source_hidden": true
    },
    "tags": []
   },
   "source": [
    "*Put all your results in an SQLite3 database (remember, SQLite stores its databases as files in your local machine - make sure to create your database in your project's data/ directory!)*\n",
    "\n",
    "\n",
    "I begin by creating the tables for into whihc I will insert the data. "
   ]
  },
  {
   "cell_type": "code",
   "execution_count": 26,
   "metadata": {
    "jupyter": {
     "source_hidden": true
    },
    "tags": []
   },
   "outputs": [],
   "source": [
    "import sqlite3\n",
    "from sqlite3 import Error # These lines import sqlite3 and the module's Error class\n",
    "\n",
    "def create_connection(path): # defines a function .create_connection() that accepts the path to the SQLite datbase\n",
    "    conneciton = None\n",
    "    try:\n",
    "        connection = sqlite3.connect(path) # uses .connect() from sqlite3 module and takes the SQLite database path as a paramter. If the dataabse exists the specified location, then a connection is established. Otherwise, a nre databse will be created at this location\n",
    "        print(\"Connection to SQLite DB sucessful\") \n",
    "    except Error as e: # catched any expetion that might be thrown if .connect() fails to establish connection\n",
    "        print(f\"The error '{e}' occured\")\n",
    "    return connection"
   ]
  },
  {
   "cell_type": "code",
   "execution_count": 43,
   "metadata": {
    "collapsed": true,
    "jupyter": {
     "outputs_hidden": true,
     "source_hidden": true
    },
    "tags": []
   },
   "outputs": [
    {
     "name": "stdout",
     "output_type": "stream",
     "text": [
      "Connection to SQLite DB sucessful\n"
     ]
    }
   ],
   "source": [
    "connection = create_connection(\"miniproject-II.db\")\n",
    "def execute_query(connection, query): # This code tries to execeute the given query and prints an error message of necessary\n",
    "    cursor = connection.cursor()\n",
    "    try:\n",
    "        cursor.execute(query)\n",
    "        connection.commit()\n",
    "        print(\"Query executed successfully\")\n",
    "    except Error as e:\n",
    "        print(f\"The error '{e}' occured\")\n"
   ]
  },
  {
   "cell_type": "markdown",
   "metadata": {
    "jupyter": {
     "source_hidden": true
    },
    "tags": []
   },
   "source": [
    "Now I insert some of my data into the the SQL table via Python"
   ]
  },
  {
   "cell_type": "code",
   "execution_count": 44,
   "metadata": {
    "collapsed": true,
    "jupyter": {
     "outputs_hidden": true,
     "source_hidden": true
    },
    "tags": []
   },
   "outputs": [
    {
     "name": "stdout",
     "output_type": "stream",
     "text": [
      "Query executed successfully\n"
     ]
    }
   ],
   "source": [
    "create_yelp_table = \"\"\"\n",
    "CREATE TABLE IF NOT EXISTS YELP(\n",
    "    id INTEGER PRIMARY KEY AUTOINCREMENT,\n",
    "    name TEXT NOT NULL,\n",
    "    type TEXT,\n",
    "    address TEXT,\n",
    "    distance NUMERIC,\n",
    "    price TEXT,\n",
    "    review_count INTEGER,\n",
    "    rating NUMERIC);\n",
    "\"\"\"\n",
    "# Send to Database\n",
    "execute_query(connection, create_yelp_table) \n"
   ]
  },
  {
   "cell_type": "code",
   "execution_count": 53,
   "metadata": {
    "jupyter": {
     "source_hidden": true
    },
    "tags": []
   },
   "outputs": [],
   "source": [
    "\n",
    "create_foursquare_table = \"\"\"\n",
    "CREATE TABLE IF NOT EXISTS foursquare(\n",
    "    id INTEGER PRIMARY KEY AUTOINCREMENT,\n",
    "    name TEXT NOT NULL,\n",
    "    address TEXT,\n",
    "    neighborhood TEXT,\n",
    "    distance NUMERIC,\n",
    "    FOREIGN KEY(name) REFERENCES yelp (name)\n",
    ");\n",
    "\"\"\""
   ]
  },
  {
   "cell_type": "code",
   "execution_count": 49,
   "metadata": {
    "collapsed": true,
    "jupyter": {
     "outputs_hidden": true,
     "source_hidden": true
    },
    "tags": []
   },
   "outputs": [
    {
     "name": "stdout",
     "output_type": "stream",
     "text": [
      "The error 'near \"-\": syntax error' occured\n"
     ]
    }
   ],
   "source": [
    "\n",
    "create_foursquare_table = \"\"\"\n",
    "CREATE TABLE IF NOT EXISTS foursquare(id INTEGER PRIMARY KEY AUTOINCREMENT, name TEXT NOT NULL, address TEXT,\n",
    " neighborhood TEXT, distance NUMERIC);\n",
    "\"\"\"\n",
    "execute_query(connection, create_foursquare_table) \n"
   ]
  },
  {
   "cell_type": "code",
   "execution_count": 50,
   "metadata": {
    "collapsed": true,
    "jupyter": {
     "outputs_hidden": true,
     "source_hidden": true
    },
    "tags": []
   },
   "outputs": [
    {
     "name": "stdout",
     "output_type": "stream",
     "text": [
      "The error 'near \"(\": syntax error' occured\n"
     ]
    }
   ],
   "source": [
    "\n",
    "fsq_insert = \"\"\"\n",
    "INSERT INTO foursquare (name, address, neighborhood, distance)\n",
    "VALUES ('Uniqlo ユニクロ', '220 Yonge St', 'NA', 34),\n",
    "    ('Yonge-Dundas Square', '40 Dundas St W', 'The Village', 47),\n",
    "    ('Cineplex Odeon Yonge & Dundas Cinemas', '10 Dundas St E', 'NA', 57),\n",
    "    ('JOEY Eaton Centre', '10 Dundas St E', 'Eaton Centre', 104),\n",
    "    ('Blaze Pizza', '10 Dundas St E', \"Downtown\", 67),\n",
    "    (\"Chipotle Mexican Grill\", \"323 Yonge St\", \"Downtown Toronto\", 123),\n",
    "    (\"Silver Snake Combo\", \"329 Yonge Street\", \"Downtown Toronto\", 122),\n",
    "    (\"Royal Alexandria Theatre\", \"284 King Street\", \"Downtown\", 129),\n",
    "    (\"Chipotle Mexican Grill\", \"323 Yonge St\", \"Downtown Toronto\", 123),\n",
    "    (\"Silver Snake Combo\", \"329 Yonge Street\", \"Downtown Toronto\", 122),\n",
    "    (\"Royal Alexandria Theatre\", \"284 King Street\", \"Downtown\", 129);\n",
    "\"\"\"\n",
    "execute_query(connection,fsq_insert)\n"
   ]
  },
  {
   "cell_type": "code",
   "execution_count": null,
   "metadata": {
    "jupyter": {
     "source_hidden": true
    },
    "tags": []
   },
   "outputs": [],
   "source": [
    "insert_yelp=\"\"\"\n",
    "INSERT INTO YELP (name, type, address, distance, price, review_count, rating)\n",
    "VALUES \n",
    "    ('Blaze Pizza', 'Pizza', '10 Dundas Street East', 107.821381, \"$$\", 566, 4.5),\n",
    "    ('KINKA IZAKAYA ORIGINAL', 'Japanese', '398 Church Street', 532.205976, \"$$\", 566, 4.0),\n",
    "    ('Pai Northern Thai Kitchen', 'Thai', '18 Duncan Street', 1083.691116, \"$$\", 566, 4.5),\n",
    "    ('Richmond Station', 'Canadian (New)', '1 Richmond Street W', 523.253427, \"$$\", 566, 4.5),\n",
    "    ('Sansotei Ramen', 'Ramen', '179 Dundas Street W', 445.853622, \"$$\", 566, 4.0),\n",
    "    ('GB Hand-pulled Noodles', 'Chinese', '66 Edward Street', 228.915389, \"$$\", 566, 4.0),\n",
    "    ('Eggspectation', '66 Edward Street', '483 Bay Street', 292.589666, \"$$\", 566, 4.0),\n",
    "    ('Hokkaido Ramen Santouka', 'Ramen', '91 Dundas Street E', 290.245629, \"$$\", 566, 4.0),\n",
    "    ('Katsuya', 'Japanese', '66 Gerrard Street E', 489.673837, \"$$\", 566, 4.5),\n",
    "    (\"Uncle Tetsu's Japanese Cheesecake\", 'Desserts', '598 Bay Street', 242.032179, \"$\", 566, 3.5),\n",
    "    ('Banh Mi Boys', 'Vietnamese', '399 Yonge Street', 202.750925, \"$\", 566, 4.0),\n",
    "    ('Salad King Restaurant', 'Thai', '340 Yonge Street', 202.750925, \"$$\", 566, 3.5),\n",
    "    ('JOEY Eaton Centre', 'Canadian (New)', '1 Dundas St W', 76.430245, \"$$\", 513, 3.5),\n",
    "    ('Byblos', 'Mediterranean', '11 Duncan Street', 1088.947333, \"$$\", 854, 4.5),\n",
    "    ('Tsujiri', 'Tea Rooms', '147 Dundas Street', 348.912401, \"$$\", 581, 4.0),\n",
    "    ('Pearl Diver', 'Seafood', '100 Adelaide Street E', 758.758397, \"$$\", 598, 4.0),\n",
    "    ('Poke Guys', 'Hawaiian', '112 Elizabeth Street', 352.894727, \"$$\", 364, 4.0),\n",
    "    (\"Fahrenheit Coffee\", \"Coffee & Tea\", \"120 Lombard Avenue\", 758.377743, \"$$\", 330, 4.5),\n",
    "    (\"Japango\", \"Sushi Bars\", \"122 Elizabeth Street\", 353.255861, \"$$\", 702, 3.5),\n",
    "    (\"The Queen And Beaver Public House\", \"Pubs\", \"35 Elm Street\", 241.694093, \"$$\", 403, 4.0);\n",
    "\"\"\"\n",
    "execute_query(connection, insert_yelp)\n"
   ]
  },
  {
   "cell_type": "markdown",
   "metadata": {},
   "source": [
    "I then gathered the top 10 restaurants according to their rating"
   ]
  },
  {
   "cell_type": "code",
   "execution_count": 52,
   "metadata": {
    "jupyter": {
     "source_hidden": true
    },
    "tags": []
   },
   "outputs": [
    {
     "data": {
      "text/html": [
       "<div>\n",
       "<style scoped>\n",
       "    .dataframe tbody tr th:only-of-type {\n",
       "        vertical-align: middle;\n",
       "    }\n",
       "\n",
       "    .dataframe tbody tr th {\n",
       "        vertical-align: top;\n",
       "    }\n",
       "\n",
       "    .dataframe thead th {\n",
       "        text-align: right;\n",
       "    }\n",
       "</style>\n",
       "<table border=\"1\" class=\"dataframe\">\n",
       "  <thead>\n",
       "    <tr style=\"text-align: right;\">\n",
       "      <th></th>\n",
       "      <th>Name</th>\n",
       "      <th>Location_Type</th>\n",
       "      <th>Distance_From_Yonge-Dundas</th>\n",
       "      <th>Price</th>\n",
       "      <th>Review-Count</th>\n",
       "      <th>Rating</th>\n",
       "    </tr>\n",
       "  </thead>\n",
       "  <tbody>\n",
       "    <tr>\n",
       "      <th>0</th>\n",
       "      <td>Blaze Pizza</td>\n",
       "      <td>Pizza</td>\n",
       "      <td>107.821381</td>\n",
       "      <td>$$</td>\n",
       "      <td>566</td>\n",
       "      <td>4.5</td>\n",
       "    </tr>\n",
       "    <tr>\n",
       "      <th>2</th>\n",
       "      <td>Pai Northern Thai Kitchen</td>\n",
       "      <td>Thai</td>\n",
       "      <td>1083.691116</td>\n",
       "      <td>$$</td>\n",
       "      <td>3201</td>\n",
       "      <td>4.5</td>\n",
       "    </tr>\n",
       "    <tr>\n",
       "      <th>3</th>\n",
       "      <td>Richmond Station</td>\n",
       "      <td>Canadian (New)</td>\n",
       "      <td>523.253427</td>\n",
       "      <td>$$$</td>\n",
       "      <td>831</td>\n",
       "      <td>4.5</td>\n",
       "    </tr>\n",
       "    <tr>\n",
       "      <th>8</th>\n",
       "      <td>Katsuya</td>\n",
       "      <td>Japanese</td>\n",
       "      <td>489.673837</td>\n",
       "      <td>$$</td>\n",
       "      <td>460</td>\n",
       "      <td>4.5</td>\n",
       "    </tr>\n",
       "    <tr>\n",
       "      <th>13</th>\n",
       "      <td>Byblos</td>\n",
       "      <td>Mediterranean</td>\n",
       "      <td>1088.947333</td>\n",
       "      <td>$$$$</td>\n",
       "      <td>854</td>\n",
       "      <td>4.5</td>\n",
       "    </tr>\n",
       "    <tr>\n",
       "      <th>17</th>\n",
       "      <td>Fahrenheit Coffee</td>\n",
       "      <td>Coffee &amp; Tea</td>\n",
       "      <td>758.377743</td>\n",
       "      <td>$$</td>\n",
       "      <td>330</td>\n",
       "      <td>4.5</td>\n",
       "    </tr>\n",
       "    <tr>\n",
       "      <th>1</th>\n",
       "      <td>KINKA IZAKAYA ORIGINAL</td>\n",
       "      <td>Japanese</td>\n",
       "      <td>532.205976</td>\n",
       "      <td>$$</td>\n",
       "      <td>1724</td>\n",
       "      <td>4.0</td>\n",
       "    </tr>\n",
       "    <tr>\n",
       "      <th>4</th>\n",
       "      <td>Sansotei Ramen</td>\n",
       "      <td>Ramen</td>\n",
       "      <td>445.853622</td>\n",
       "      <td>$$</td>\n",
       "      <td>906</td>\n",
       "      <td>4.0</td>\n",
       "    </tr>\n",
       "    <tr>\n",
       "      <th>5</th>\n",
       "      <td>GB Hand-pulled Noodles</td>\n",
       "      <td>Chinese</td>\n",
       "      <td>228.915389</td>\n",
       "      <td>$$</td>\n",
       "      <td>563</td>\n",
       "      <td>4.0</td>\n",
       "    </tr>\n",
       "    <tr>\n",
       "      <th>6</th>\n",
       "      <td>Eggspectation</td>\n",
       "      <td>Breakfast &amp; Brunch</td>\n",
       "      <td>292.589666</td>\n",
       "      <td>$$</td>\n",
       "      <td>725</td>\n",
       "      <td>4.0</td>\n",
       "    </tr>\n",
       "  </tbody>\n",
       "</table>\n",
       "</div>"
      ],
      "text/plain": [
       "                         Name       Location_Type  Distance_From_Yonge-Dundas  \\\n",
       "0                 Blaze Pizza               Pizza                  107.821381   \n",
       "2   Pai Northern Thai Kitchen                Thai                 1083.691116   \n",
       "3            Richmond Station      Canadian (New)                  523.253427   \n",
       "8                     Katsuya            Japanese                  489.673837   \n",
       "13                     Byblos       Mediterranean                 1088.947333   \n",
       "17          Fahrenheit Coffee        Coffee & Tea                  758.377743   \n",
       "1      KINKA IZAKAYA ORIGINAL            Japanese                  532.205976   \n",
       "4              Sansotei Ramen               Ramen                  445.853622   \n",
       "5      GB Hand-pulled Noodles             Chinese                  228.915389   \n",
       "6               Eggspectation  Breakfast & Brunch                  292.589666   \n",
       "\n",
       "   Price  Review-Count  Rating  \n",
       "0     $$           566     4.5  \n",
       "2     $$          3201     4.5  \n",
       "3    $$$           831     4.5  \n",
       "8     $$           460     4.5  \n",
       "13  $$$$           854     4.5  \n",
       "17    $$           330     4.5  \n",
       "1     $$          1724     4.0  \n",
       "4     $$           906     4.0  \n",
       "5     $$           563     4.0  \n",
       "6     $$           725     4.0  "
      ]
     },
     "execution_count": 52,
     "metadata": {},
     "output_type": "execute_result"
    }
   ],
   "source": [
    "\n",
    "yelp_df.nlargest(10, 'Rating')"
   ]
  },
  {
   "cell_type": "markdown",
   "metadata": {
    "jupyter": {
     "source_hidden": true
    },
    "tags": []
   },
   "source": [
    "# Travelling Salesman Problem (stretch)"
   ]
  },
  {
   "cell_type": "markdown",
   "metadata": {
    "jupyter": {
     "source_hidden": true
    },
    "tags": []
   },
   "source": [
    "If you have time, follow the steps in the [ortools tutorial](https://developers.google.com/optimization/routing/tsp) using Google's [Directions API](https://developers.google.com/maps/documentation/directions/start)."
   ]
  },
  {
   "cell_type": "code",
   "execution_count": null,
   "metadata": {
    "jupyter": {
     "source_hidden": true
    },
    "tags": []
   },
   "outputs": [],
   "source": []
  }
 ],
 "metadata": {
  "kernelspec": {
   "display_name": "Python 3 (ipykernel)",
   "language": "python",
   "name": "python3"
  },
  "language_info": {
   "codemirror_mode": {
    "name": "ipython",
    "version": 3
   },
   "file_extension": ".py",
   "mimetype": "text/x-python",
   "name": "python",
   "nbconvert_exporter": "python",
   "pygments_lexer": "ipython3",
   "version": "3.8.10"
  },
  "vscode": {
   "interpreter": {
    "hash": "916dbcbb3f70747c44a77c7bcd40155683ae19c65e1c03b4aa3499c5328201f1"
   }
  }
 },
 "nbformat": 4,
 "nbformat_minor": 4
}
